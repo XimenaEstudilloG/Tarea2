{
  "nbformat": 4,
  "nbformat_minor": 0,
  "metadata": {
    "colab": {
      "name": "Serie_fibonacci.ipynb",
      "provenance": [],
      "collapsed_sections": []
    },
    "kernelspec": {
      "name": "python3",
      "display_name": "Python 3"
    },
    "language_info": {
      "name": "python"
    }
  },
  "cells": [
    {
      "cell_type": "code",
      "metadata": {
        "id": "KwMUvzGax-Nl"
      },
      "source": [
        "def fibonacci( n ):\n",
        "    if n == 0:\n",
        "        return 0\n",
        "    elif n == 1:\n",
        "        return 1\n",
        "    else:\n",
        "        return (fibonacci(n-1)+fibonacci(n-2))\n"
      ],
      "execution_count": null,
      "outputs": []
    },
    {
      "cell_type": "code",
      "metadata": {
        "colab": {
          "base_uri": "https://localhost:8080/"
        },
        "id": "ycUj-R9s_AMb",
        "outputId": "d14dddcf-3e9d-4da1-babb-80bf3692eec7"
      },
      "source": [
        "fibonacci(22)"
      ],
      "execution_count": null,
      "outputs": [
        {
          "output_type": "execute_result",
          "data": {
            "text/plain": [
              "17711"
            ]
          },
          "metadata": {},
          "execution_count": 5
        }
      ]
    }
  ]
}