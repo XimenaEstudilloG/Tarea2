{
  "nbformat": 4,
  "nbformat_minor": 0,
  "metadata": {
    "colab": {
      "name": "Lista_de_enteros.ipynb",
      "provenance": [],
      "collapsed_sections": []
    },
    "kernelspec": {
      "name": "python3",
      "display_name": "Python 3"
    },
    "language_info": {
      "name": "python"
    }
  },
  "cells": [
    {
      "cell_type": "code",
      "metadata": {
        "id": "DNdhzIhWEuSR"
      },
      "source": [
        "def printRev( n ):\n",
        "    if n > 0 :\n",
        "        printRev( n - 1 )\n",
        "        print( n )"
      ],
      "execution_count": null,
      "outputs": []
    },
    {
      "cell_type": "code",
      "metadata": {
        "colab": {
          "base_uri": "https://localhost:8080/"
        },
        "id": "Xa_8pdIyFDMj",
        "outputId": "6784b919-6e73-4b4e-cf18-618b81cf3e14"
      },
      "source": [
        "printRev( 10 )"
      ],
      "execution_count": null,
      "outputs": [
        {
          "output_type": "stream",
          "name": "stdout",
          "text": [
            "1\n",
            "2\n",
            "3\n",
            "4\n",
            "5\n",
            "6\n",
            "7\n",
            "8\n",
            "9\n",
            "10\n"
          ]
        }
      ]
    },
    {
      "cell_type": "code",
      "metadata": {
        "colab": {
          "base_uri": "https://localhost:8080/"
        },
        "id": "6WgHPIoSGSDh",
        "outputId": "1574b886-a59b-4335-f73b-a9615aff511c"
      },
      "source": [
        "def sumar_lista(lista):\n",
        "    if len( lista ) == 0:\n",
        "        return 0\n",
        "    else:\n",
        "        return lista[0] + sumar_lista(lista[1:])\n",
        "\n",
        "\n",
        "numeros = []\n",
        "resultado = sumar_lista(numeros)\n",
        "print('La suma de la anterior lista es igual a: %i' % resultado)\n",
        "\n",
        "numeros_enteros = [1, 2, 3, 4, 5, 6, 7, 8, 9, 10]\n",
        "resultado = sumar_lista(numeros_enteros)\n",
        "print('La suma actual es: %i' %resultado)"
      ],
      "execution_count": null,
      "outputs": [
        {
          "output_type": "stream",
          "name": "stdout",
          "text": [
            "La suma de la anterior lista es igual a: 0\n",
            "La suma actual es: 55\n"
          ]
        }
      ]
    },
    {
      "cell_type": "code",
      "metadata": {
        "colab": {
          "base_uri": "https://localhost:8080/"
        },
        "id": "mUR4tXxrgeDG",
        "outputId": "4f011a17-3af3-4a32-c078-59c09434fb6b"
      },
      "source": [
        "# /otra opcion más fácil y conveniente a lo que pide es:\n",
        "\n",
        "def sumatoria(num):\n",
        "    if num == 0:\n",
        "        return 0\n",
        "    else:\n",
        "        return num + sumatoria(num-1)\n",
        "\n",
        "num= int(input('Escribe el número que desees sumar con la lista:'))\n",
        "print(sumatoria(num))"
      ],
      "execution_count": null,
      "outputs": [
        {
          "output_type": "stream",
          "name": "stdout",
          "text": [
            "Escribe el número que desees sumar con la lista:9\n",
            "45\n"
          ]
        }
      ]
    }
  ]
}