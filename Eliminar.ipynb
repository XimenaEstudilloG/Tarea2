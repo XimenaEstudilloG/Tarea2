{
  "nbformat": 4,
  "nbformat_minor": 0,
  "metadata": {
    "colab": {
      "name": "Eliminar.ipynb",
      "provenance": [],
      "collapsed_sections": []
    },
    "kernelspec": {
      "name": "python3",
      "display_name": "Python 3"
    },
    "language_info": {
      "name": "python"
    }
  },
  "cells": [
    {
      "cell_type": "code",
      "metadata": {
        "id": "J06Louv3xszl",
        "colab": {
          "base_uri": "https://localhost:8080/"
        },
        "outputId": "58bb40df-3baa-4808-f5d5-49b595a1e8bf"
      },
      "source": [
        "lista = [\"32\",\"45\",\"54\",\"89\"]\n",
        "del lista[2]\n",
        "print(lista)"
      ],
      "execution_count": null,
      "outputs": [
        {
          "output_type": "stream",
          "name": "stdout",
          "text": [
            "['32', '45', '89']\n"
          ]
        }
      ]
    }
  ]
}