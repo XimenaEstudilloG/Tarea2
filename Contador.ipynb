{
  "nbformat": 4,
  "nbformat_minor": 0,
  "metadata": {
    "colab": {
      "name": "Contador.ipynb",
      "provenance": [],
      "collapsed_sections": []
    },
    "kernelspec": {
      "name": "python3",
      "display_name": "Python 3"
    },
    "language_info": {
      "name": "python"
    }
  },
  "cells": [
    {
      "cell_type": "code",
      "metadata": {
        "id": "l1aPoktmLu19"
      },
      "source": [
        "def cuentaRegresiva( n ):\n",
        "    if n >= 0:\n",
        "        print( n )\n",
        "        cuentaRegresiva( n - 1 )\n",
        "        if n == 0:\n",
        "            print( \"BOOMMM!!!!\")"
      ],
      "execution_count": 12,
      "outputs": []
    },
    {
      "cell_type": "code",
      "metadata": {
        "colab": {
          "base_uri": "https://localhost:8080/"
        },
        "id": "bygtsRcQMJ7Q",
        "outputId": "e9f6f646-1f33-4372-a108-35e6a86afe20"
      },
      "source": [
        "cuentaRegresiva( 20 )"
      ],
      "execution_count": 13,
      "outputs": [
        {
          "output_type": "stream",
          "name": "stdout",
          "text": [
            "20\n",
            "19\n",
            "18\n",
            "17\n",
            "16\n",
            "15\n",
            "14\n",
            "13\n",
            "12\n",
            "11\n",
            "10\n",
            "9\n",
            "8\n",
            "7\n",
            "6\n",
            "5\n",
            "4\n",
            "3\n",
            "2\n",
            "1\n",
            "0\n",
            "BOOMMM!!!!\n"
          ]
        }
      ]
    }
  ]
}